{
 "cells": [
  {
   "cell_type": "code",
   "execution_count": 1,
   "id": "86da100a",
   "metadata": {},
   "outputs": [
    {
     "name": "stdout",
     "output_type": "stream",
     "text": [
      "Requirement already satisfied: dask in c:\\users\\paula\\anaconda3\\envs\\pmb-072125\\lib\\site-packages (2025.7.0)\n",
      "Requirement already satisfied: click>=8.1 in c:\\users\\paula\\anaconda3\\envs\\pmb-072125\\lib\\site-packages (from dask) (8.2.1)\n",
      "Requirement already satisfied: cloudpickle>=3.0.0 in c:\\users\\paula\\anaconda3\\envs\\pmb-072125\\lib\\site-packages (from dask) (3.1.1)\n",
      "Requirement already satisfied: fsspec>=2021.09.0 in c:\\users\\paula\\anaconda3\\envs\\pmb-072125\\lib\\site-packages (from dask) (2025.7.0)\n",
      "Requirement already satisfied: packaging>=20.0 in c:\\users\\paula\\anaconda3\\envs\\pmb-072125\\lib\\site-packages (from dask) (25.0)\n",
      "Requirement already satisfied: partd>=1.4.0 in c:\\users\\paula\\anaconda3\\envs\\pmb-072125\\lib\\site-packages (from dask) (1.4.2)\n",
      "Requirement already satisfied: pyyaml>=5.3.1 in c:\\users\\paula\\anaconda3\\envs\\pmb-072125\\lib\\site-packages (from dask) (6.0.2)\n",
      "Requirement already satisfied: toolz>=0.10.0 in c:\\users\\paula\\anaconda3\\envs\\pmb-072125\\lib\\site-packages (from dask) (1.0.0)\n",
      "Requirement already satisfied: colorama in c:\\users\\paula\\anaconda3\\envs\\pmb-072125\\lib\\site-packages (from click>=8.1->dask) (0.4.6)\n",
      "Requirement already satisfied: locket in c:\\users\\paula\\anaconda3\\envs\\pmb-072125\\lib\\site-packages (from partd>=1.4.0->dask) (1.0.0)\n",
      "Note: you may need to restart the kernel to use updated packages.\n"
     ]
    }
   ],
   "source": [
    "pip install dask"
   ]
  },
  {
   "cell_type": "code",
   "execution_count": 3,
   "id": "b70659c2",
   "metadata": {},
   "outputs": [
    {
     "name": "stdout",
     "output_type": "stream",
     "text": [
      "Collecting pyarrow\n",
      "  Downloading pyarrow-21.0.0-cp312-cp312-win_amd64.whl.metadata (3.4 kB)\n",
      "Downloading pyarrow-21.0.0-cp312-cp312-win_amd64.whl (26.2 MB)\n",
      "   ---------------------------------------- 0.0/26.2 MB ? eta -:--:--\n",
      "   -- ------------------------------------- 1.6/26.2 MB 7.6 MB/s eta 0:00:04\n",
      "   ---------- ----------------------------- 6.6/26.2 MB 19.2 MB/s eta 0:00:02\n",
      "   -------------------------------- ------- 21.5/26.2 MB 38.8 MB/s eta 0:00:01\n",
      "   ---------------------------------------  26.0/26.2 MB 40.1 MB/s eta 0:00:01\n",
      "   ---------------------------------------  26.0/26.2 MB 40.1 MB/s eta 0:00:01\n",
      "   ---------------------------------------- 26.2/26.2 MB 22.7 MB/s eta 0:00:00\n",
      "Installing collected packages: pyarrow\n",
      "Successfully installed pyarrow-21.0.0\n",
      "Note: you may need to restart the kernel to use updated packages.\n"
     ]
    }
   ],
   "source": [
    "pip install pyarrow"
   ]
  },
  {
   "cell_type": "code",
   "execution_count": 2,
   "id": "fb7711a9",
   "metadata": {},
   "outputs": [],
   "source": [
    "import pandas as pd\n",
    "import numpy as np\n",
    "import dask.dataframe as dd"
   ]
  },
  {
   "cell_type": "code",
   "execution_count": 2,
   "id": "7059fe68",
   "metadata": {},
   "outputs": [
    {
     "data": {
      "text/plain": [
       "fecha_dato               string[pyarrow]\n",
       "ncodpers                         float64\n",
       "ind_empleado             string[pyarrow]\n",
       "pais_residencia          string[pyarrow]\n",
       "sexo                     string[pyarrow]\n",
       "age                              float64\n",
       "fecha_alta               string[pyarrow]\n",
       "ind_nuevo                        float64\n",
       "antiguedad                       float64\n",
       "indrel                           float64\n",
       "ult_fec_cli_1t                   float64\n",
       "indrel_1mes                      float64\n",
       "tiprel_1mes              string[pyarrow]\n",
       "indresi                  string[pyarrow]\n",
       "indext                   string[pyarrow]\n",
       "conyuemp                         float64\n",
       "canal_entrada            string[pyarrow]\n",
       "indfall                  string[pyarrow]\n",
       "tipodom                          float64\n",
       "cod_prov                         float64\n",
       "nomprov                  string[pyarrow]\n",
       "ind_actividad_cliente            float64\n",
       "renta                            float64\n",
       "segmento                 string[pyarrow]\n",
       "ind_ahor_fin_ult1                float64\n",
       "ind_aval_fin_ult1                float64\n",
       "ind_cco_fin_ult1                 float64\n",
       "ind_cder_fin_ult1                float64\n",
       "ind_cno_fin_ult1                 float64\n",
       "ind_ctju_fin_ult1                float64\n",
       "ind_ctma_fin_ult1                float64\n",
       "ind_ctop_fin_ult1                float64\n",
       "ind_ctpp_fin_ult1                float64\n",
       "ind_deco_fin_ult1                float64\n",
       "ind_deme_fin_ult1                float64\n",
       "ind_dela_fin_ult1                float64\n",
       "ind_ecue_fin_ult1                float64\n",
       "ind_fond_fin_ult1                float64\n",
       "ind_hip_fin_ult1                 float64\n",
       "ind_plan_fin_ult1                float64\n",
       "ind_pres_fin_ult1                float64\n",
       "ind_reca_fin_ult1                float64\n",
       "ind_tjcr_fin_ult1                float64\n",
       "ind_valo_fin_ult1                float64\n",
       "ind_viv_fin_ult1                 float64\n",
       "ind_nomina_ult1                  float64\n",
       "ind_nom_pens_ult1                float64\n",
       "ind_recibo_ult1                  float64\n",
       "dtype: object"
      ]
     },
     "execution_count": 2,
     "metadata": {},
     "output_type": "execute_result"
    }
   ],
   "source": [
    "dd.read_csv(\"Train.csv\", sep=\",\", assume_missing=True, sample=100000).dtypes"
   ]
  },
  {
   "cell_type": "code",
   "execution_count": 16,
   "id": "f5f422f7",
   "metadata": {},
   "outputs": [],
   "source": [
    "df1 = dd.read_csv(\"Train.csv\", sep=\",\", assume_missing=True, sample=100000)\n",
    "df2 = dd.read_csv(\"Test.csv\", sep=\",\", assume_missing=True, sample=100000)"
   ]
  },
  {
   "cell_type": "code",
   "execution_count": 20,
   "id": "12dd2273",
   "metadata": {},
   "outputs": [
    {
     "data": {
      "text/plain": [
       "48"
      ]
     },
     "execution_count": 20,
     "metadata": {},
     "output_type": "execute_result"
    }
   ],
   "source": [
    "len(df1.columns)"
   ]
  },
  {
   "cell_type": "code",
   "execution_count": 23,
   "id": "45009a69",
   "metadata": {},
   "outputs": [
    {
     "name": "stdout",
     "output_type": "stream",
     "text": [
      "\"fecha_dato\",\"ncodpers\",\"ind_empleado\",\"pais_residencia\",\"sexo\",\"age\",\"fecha_alta\",\"ind_nuevo\",\"antiguedad\",\"indrel\",\"ult_fec_cli_1t\",\"indrel_1mes\",\"tiprel_1mes\",\"indresi\",\"indext\",\"conyuemp\",\"canal_entrada\",\"indfall\",\"tipodom\",\"cod_prov\",\"nomprov\",\"ind_actividad_cliente\",\"renta\",\"segmento\",\"ind_ahor_fin_ult1\",\"ind_aval_fin_ult1\",\"ind_cco_fin_ult1\",\"ind_cder_fin_ult1\",\"ind_cno_fin_ult1\",\"ind_ctju_fin_ult1\",\"ind_ctma_fin_ult1\",\"ind_ctop_fin_ult1\",\"ind_ctpp_fin_ult1\",\"ind_deco_fin_ult1\",\"ind_deme_fin_ult1\",\"ind_dela_fin_ult1\",\"ind_ecue_fin_ult1\",\"ind_fond_fin_ult1\",\"ind_hip_fin_ult1\",\"ind_plan_fin_ult1\",\"ind_pres_fin_ult1\",\"ind_reca_fin_ult1\",\"ind_tjcr_fin_ult1\",\"ind_valo_fin_ult1\",\"ind_viv_fin_ult1\",\"ind_nomina_ult1\",\"ind_nom_pens_ult1\",\"ind_recibo_ult1\"\n",
      "\n",
      "2015-01-28,1375586,N,ES,H, 35,2015-01-12, 0,      6, 1,,1.0,A,S,N,,KHL,N, 1,29,\"MALAGA\", 1,87218.1,02 - PARTICULARES,0,0,1,0,0,0,0,0,0,0,0,0,0,0,0,0,0,0,0,0,0, 0, 0,0\n",
      "\n",
      "2015-01-28,1050611,N,ES,V, 23,2012-08-10, 0,     35, 1,,1,I,S,S,,KHE,N, 1,13,\"CIUDAD REAL\", 0,35548.74,03 - UNIVERSITARIO,0,0,1,0,0,0,0,0,0,0,0,0,0,0,0,0,0,0,0,0,0, 0, 0,0\n",
      "\n",
      "2015-01-28,1050612,N,ES,V, 23,2012-08-10, 0,     35, 1,,1,I,S,N,,KHE,N, 1,13,\"CIUDAD REAL\", 0,122179.11000000002,03 - UNIVERSITARIO,0,0,1,0,0,0,0,0,0,0,0,0,0,0,0,0,0,0,0,0,0, 0, 0,0\n",
      "\n",
      "2015-01-28,1050613,N,ES,H, 22,2012-08-10, 0,     35, 1,,1,I,S,N,,KHD,N, 1,50,\"ZARAGOZA\", 0,119775.54,03 - UNIVERSITARIO,0,0,0,0,0,0,0,0,0,1,0,0,0,0,0,0,0,0,0,0,0, 0, 0,0\n",
      "\n"
     ]
    }
   ],
   "source": [
    "with open(\"Train.csv\", 'r') as f:\n",
    "    for _ in range(5):\n",
    "        print(f.readline())"
   ]
  },
  {
   "cell_type": "code",
   "execution_count": 21,
   "id": "dc0aef31",
   "metadata": {},
   "outputs": [
    {
     "name": "stdout",
     "output_type": "stream",
     "text": [
      "fecha_dato               string[pyarrow]\n",
      "ncodpers                         float64\n",
      "ind_empleado             string[pyarrow]\n",
      "pais_residencia          string[pyarrow]\n",
      "sexo                     string[pyarrow]\n",
      "age                              float64\n",
      "fecha_alta               string[pyarrow]\n",
      "ind_nuevo                        float64\n",
      "antiguedad                       float64\n",
      "indrel                           float64\n",
      "ult_fec_cli_1t                   float64\n",
      "indrel_1mes                      float64\n",
      "tiprel_1mes              string[pyarrow]\n",
      "indresi                  string[pyarrow]\n",
      "indext                   string[pyarrow]\n",
      "conyuemp                         float64\n",
      "canal_entrada            string[pyarrow]\n",
      "indfall                  string[pyarrow]\n",
      "tipodom                          float64\n",
      "cod_prov                         float64\n",
      "nomprov                  string[pyarrow]\n",
      "ind_actividad_cliente            float64\n",
      "renta                            float64\n",
      "segmento                 string[pyarrow]\n",
      "ind_ahor_fin_ult1                float64\n",
      "ind_aval_fin_ult1                float64\n",
      "ind_cco_fin_ult1                 float64\n",
      "ind_cder_fin_ult1                float64\n",
      "ind_cno_fin_ult1                 float64\n",
      "ind_ctju_fin_ult1                float64\n",
      "ind_ctma_fin_ult1                float64\n",
      "ind_ctop_fin_ult1                float64\n",
      "ind_ctpp_fin_ult1                float64\n",
      "ind_deco_fin_ult1                float64\n",
      "ind_deme_fin_ult1                float64\n",
      "ind_dela_fin_ult1                float64\n",
      "ind_ecue_fin_ult1                float64\n",
      "ind_fond_fin_ult1                float64\n",
      "ind_hip_fin_ult1                 float64\n",
      "ind_plan_fin_ult1                float64\n",
      "ind_pres_fin_ult1                float64\n",
      "ind_reca_fin_ult1                float64\n",
      "ind_tjcr_fin_ult1                float64\n",
      "ind_valo_fin_ult1                float64\n",
      "ind_viv_fin_ult1                 float64\n",
      "ind_nomina_ult1                  float64\n",
      "ind_nom_pens_ult1                float64\n",
      "ind_recibo_ult1                  float64\n",
      "dtype: object\n"
     ]
    }
   ],
   "source": [
    "print(df1.dtypes)"
   ]
  },
  {
   "cell_type": "code",
   "execution_count": 19,
   "id": "d368c9f8",
   "metadata": {},
   "outputs": [
    {
     "data": {
      "text/plain": [
       "24"
      ]
     },
     "execution_count": 19,
     "metadata": {},
     "output_type": "execute_result"
    }
   ],
   "source": [
    "len(df2.columns)"
   ]
  },
  {
   "cell_type": "code",
   "execution_count": 22,
   "id": "c1deb6f2",
   "metadata": {},
   "outputs": [
    {
     "name": "stdout",
     "output_type": "stream",
     "text": [
      "fecha_dato               string[pyarrow]\n",
      "ncodpers                         float64\n",
      "ind_empleado             string[pyarrow]\n",
      "pais_residencia          string[pyarrow]\n",
      "sexo                     string[pyarrow]\n",
      "age                              float64\n",
      "fecha_alta               string[pyarrow]\n",
      "ind_nuevo                        float64\n",
      "antiguedad                       float64\n",
      "indrel                           float64\n",
      "ult_fec_cli_1t                   float64\n",
      "indrel_1mes                      float64\n",
      "tiprel_1mes              string[pyarrow]\n",
      "indresi                  string[pyarrow]\n",
      "indext                   string[pyarrow]\n",
      "conyuemp                 string[pyarrow]\n",
      "canal_entrada            string[pyarrow]\n",
      "indfall                  string[pyarrow]\n",
      "tipodom                          float64\n",
      "cod_prov                         float64\n",
      "nomprov                  string[pyarrow]\n",
      "ind_actividad_cliente            float64\n",
      "renta                    string[pyarrow]\n",
      "segmento                 string[pyarrow]\n",
      "dtype: object\n"
     ]
    }
   ],
   "source": [
    "print(df2.dtypes)"
   ]
  },
  {
   "cell_type": "code",
   "execution_count": 25,
   "id": "7846b926",
   "metadata": {},
   "outputs": [],
   "source": [
    "dtypes = {\n",
    "    'fecha_dato':         'string[pyarrow]',\n",
    "    'ncodpers':           'float64',\n",
    "    'ind_empleado':       'string[pyarrow]',\n",
    "    'pais_residencia':    'string[pyarrow]',\n",
    "    'sexo':               'string[pyarrow]',\n",
    "    'age':                 'float64',\n",
    "    'fecha_alta':          'string[pyarrow]',\n",
    "    'ind_nuevo':           'float64',\n",
    "    'antiguedad':          'float64',\n",
    "    'indrel':              'float64',\n",
    "    'ult_fec_cli_1t':      'float64',\n",
    "    'indrel_1mes':         'float64',\n",
    "    'tiprel_1mes':         'string[pyarrow]',\n",
    "    'indresi':             'string[pyarrow]',\n",
    "    'indext':              'string[pyarrow]',\n",
    "    'conyuemp':            'float64',\n",
    "    'canal_entrada':       'string[pyarrow]',\n",
    "    'indfall':             'string[pyarrow]',\n",
    "    'tipodom':             'float64',\n",
    "    'cod_prov':            'float64',\n",
    "    'nomprov':             'string[pyarrow]',\n",
    "    'ind_actividad_cliente': 'float64',\n",
    "    'renta':                'float64',\n",
    "    'segmento':             'string[pyarrow]',\n",
    "    'ind_ahor_fin_ult1':    'float64',\n",
    "    'ind_aval_fin_ult1':    'float64',\n",
    "    'ind_cco_fin_ult1':     'float64',\n",
    "    'ind_cder_fin_ult1':    'float64',\n",
    "    'ind_cno_fin_ult1':     'float64',\n",
    "    'ind_ctju_fin_ult1':    'float64',\n",
    "    'ind_ctma_fin_ult1':    'float64',\n",
    "    'ind_ctop_fin_ult1':    'float64',\n",
    "    'ind_ctpp_fin_ult1':    'float64',\n",
    "    'ind_deco_fin_ult1':    'float64',\n",
    "    'ind_deme_fin_ult1':    'float64',\n",
    "    'ind_dela_fin_ult1':    'float64',\n",
    "    'ind_ecue_fin_ult1':    'float64',\n",
    "    'ind_fond_fin_ult1':    'float64',\n",
    "    'ind_hip_fin_ult1':     'float64',\n",
    "    'ind_plan_fin_ult1':    'float64',\n",
    "    'ind_pres_fin_ult1':    'float64',\n",
    "    'ind_reca_fin_ult1':    'float64',\n",
    "    'ind_tjcr_fin_ult1':    'float64',\n",
    "    'ind_valo_fin_ult1':    'float64',\n",
    "    'ind_viv_fin_ult1':     'float64',\n",
    "    'ind_nomina_ult1':      'float64',\n",
    "    'ind_nom_pens_ult1':    'float64',\n",
    "    'ind_recibo_ult1':      'float64'\n",
    "}"
   ]
  },
  {
   "cell_type": "code",
   "execution_count": 3,
   "id": "ba033f56",
   "metadata": {},
   "outputs": [
    {
     "name": "stdout",
     "output_type": "stream",
     "text": [
      "fecha_dato                object\n",
      "ncodpers                   int64\n",
      "ind_empleado              object\n",
      "pais_residencia           object\n",
      "sexo                      object\n",
      "age                       object\n",
      "fecha_alta                object\n",
      "ind_nuevo                float64\n",
      "antiguedad                object\n",
      "indrel                   float64\n",
      "ult_fec_cli_1t            object\n",
      "indrel_1mes              float64\n",
      "tiprel_1mes               object\n",
      "indresi                   object\n",
      "indext                    object\n",
      "conyuemp                 float64\n",
      "canal_entrada             object\n",
      "indfall                   object\n",
      "tipodom                  float64\n",
      "cod_prov                 float64\n",
      "nomprov                   object\n",
      "ind_actividad_cliente    float64\n",
      "renta                    float64\n",
      "segmento                  object\n",
      "ind_ahor_fin_ult1          int64\n",
      "ind_aval_fin_ult1          int64\n",
      "ind_cco_fin_ult1           int64\n",
      "ind_cder_fin_ult1          int64\n",
      "ind_cno_fin_ult1           int64\n",
      "ind_ctju_fin_ult1          int64\n",
      "ind_ctma_fin_ult1          int64\n",
      "ind_ctop_fin_ult1          int64\n",
      "ind_ctpp_fin_ult1          int64\n",
      "ind_deco_fin_ult1          int64\n",
      "ind_deme_fin_ult1          int64\n",
      "ind_dela_fin_ult1          int64\n",
      "ind_ecue_fin_ult1          int64\n",
      "ind_fond_fin_ult1          int64\n",
      "ind_hip_fin_ult1           int64\n",
      "ind_plan_fin_ult1          int64\n",
      "ind_pres_fin_ult1          int64\n",
      "ind_reca_fin_ult1          int64\n",
      "ind_tjcr_fin_ult1          int64\n",
      "ind_valo_fin_ult1          int64\n",
      "ind_viv_fin_ult1           int64\n",
      "ind_nomina_ult1            int64\n",
      "ind_nom_pens_ult1          int64\n",
      "ind_recibo_ult1            int64\n",
      "dtype: object\n"
     ]
    }
   ],
   "source": [
    "# using pandas\n",
    "sample = pd.read_csv(\"Train.csv\", sep=\",\", nrows=1000, engine='python')\n",
    "print(sample.dtypes)"
   ]
  },
  {
   "cell_type": "code",
   "execution_count": 20,
   "id": "49c493b4",
   "metadata": {},
   "outputs": [
    {
     "name": "stdout",
     "output_type": "stream",
     "text": [
      "fecha_dato: [<class 'str'>]\n",
      "ncodpers: [<class 'int'>]\n",
      "ind_empleado: [<class 'str'> <class 'float'>]\n",
      "pais_residencia: [<class 'str'> <class 'float'>]\n",
      "sexo: [<class 'str'> <class 'float'>]\n",
      "age: [<class 'str'>]\n",
      "fecha_alta: [<class 'str'> <class 'float'>]\n",
      "ind_nuevo: [<class 'float'>]\n",
      "antiguedad: [<class 'str'>]\n",
      "indrel: [<class 'float'>]\n",
      "ult_fec_cli_1t: [<class 'float'> <class 'str'>]\n",
      "indrel_1mes: [<class 'float'>]\n",
      "tiprel_1mes: [<class 'str'> <class 'float'>]\n",
      "indresi: [<class 'str'> <class 'float'>]\n",
      "indext: [<class 'str'> <class 'float'>]\n",
      "conyuemp: [<class 'float'>]\n",
      "canal_entrada: [<class 'str'> <class 'float'>]\n",
      "indfall: [<class 'str'> <class 'float'>]\n",
      "tipodom: [<class 'float'>]\n",
      "cod_prov: [<class 'float'>]\n",
      "nomprov: [<class 'str'> <class 'float'>]\n",
      "ind_actividad_cliente: [<class 'float'>]\n",
      "renta: [<class 'float'>]\n",
      "segmento: [<class 'str'> <class 'float'>]\n",
      "ind_ahor_fin_ult1: [<class 'int'>]\n",
      "ind_aval_fin_ult1: [<class 'int'>]\n",
      "ind_cco_fin_ult1: [<class 'int'>]\n",
      "ind_cder_fin_ult1: [<class 'int'>]\n",
      "ind_cno_fin_ult1: [<class 'int'>]\n",
      "ind_ctju_fin_ult1: [<class 'int'>]\n",
      "ind_ctma_fin_ult1: [<class 'int'>]\n",
      "ind_ctop_fin_ult1: [<class 'int'>]\n",
      "ind_ctpp_fin_ult1: [<class 'int'>]\n",
      "ind_deco_fin_ult1: [<class 'int'>]\n",
      "ind_deme_fin_ult1: [<class 'int'>]\n",
      "ind_dela_fin_ult1: [<class 'int'>]\n",
      "ind_ecue_fin_ult1: [<class 'int'>]\n",
      "ind_fond_fin_ult1: [<class 'int'>]\n",
      "ind_hip_fin_ult1: [<class 'int'>]\n",
      "ind_plan_fin_ult1: [<class 'int'>]\n",
      "ind_pres_fin_ult1: [<class 'int'>]\n",
      "ind_reca_fin_ult1: [<class 'int'>]\n",
      "ind_tjcr_fin_ult1: [<class 'int'>]\n",
      "ind_valo_fin_ult1: [<class 'int'>]\n",
      "ind_viv_fin_ult1: [<class 'int'>]\n",
      "ind_nomina_ult1: [<class 'int'>]\n",
      "ind_nom_pens_ult1: [<class 'int'>]\n",
      "ind_recibo_ult1: [<class 'int'>]\n"
     ]
    }
   ],
   "source": [
    "#scan for mixed-type columns\n",
    "for col in sample.columns:\n",
    "    unique_types = sample[col].map(type).unique()\n",
    "    print(f\"{col}: {unique_types}\")"
   ]
  },
  {
   "cell_type": "code",
   "execution_count": 21,
   "id": "c83fbe3a",
   "metadata": {},
   "outputs": [],
   "source": [
    "dtypes = {\n",
    "    'fecha_dato':         'string[pyarrow]',\n",
    "    'ncodpers':           'string[pyarrow]',  # updated from float\n",
    "    'ind_empleado':       'string[pyarrow]',\n",
    "    'pais_residencia':    'string[pyarrow]',\n",
    "    'sexo':               'string[pyarrow]',\n",
    "    'age':                 'string[pyarrow]',  # updated from float\n",
    "    'fecha_alta':          'string[pyarrow]',\n",
    "    'ind_nuevo':           'float64',\n",
    "    'antiguedad':          'string[pyarrow]',  # updated from float\n",
    "    'indrel':              'float64',\n",
    "    'ult_fec_cli_1t':      'string[pyarrow]',  # updated from float\n",
    "    'indrel_1mes':         'float64',  \n",
    "    'tiprel_1mes':         'string[pyarrow]',\n",
    "    'indresi':             'string[pyarrow]',\n",
    "    'indext':              'string[pyarrow]',\n",
    "    'conyuemp':            'float64',\n",
    "    'canal_entrada':       'string[pyarrow]',\n",
    "    'indfall':             'string[pyarrow]',\n",
    "    'tipodom':             'float64',\n",
    "    'cod_prov':            'float64',\n",
    "    'nomprov':             'string[pyarrow]',\n",
    "    'ind_actividad_cliente': 'float64',\n",
    "    'renta':                'float64',\n",
    "    'segmento':             'string[pyarrow]',\n",
    "    'ind_ahor_fin_ult1':    'float64',\n",
    "    'ind_aval_fin_ult1':    'float64',\n",
    "    'ind_cco_fin_ult1':     'float64',\n",
    "    'ind_cder_fin_ult1':    'float64',\n",
    "    'ind_cno_fin_ult1':     'float64',\n",
    "    'ind_ctju_fin_ult1':    'float64',\n",
    "    'ind_ctma_fin_ult1':    'float64',\n",
    "    'ind_ctop_fin_ult1':    'float64',\n",
    "    'ind_ctpp_fin_ult1':    'float64',\n",
    "    'ind_deco_fin_ult1':    'float64',\n",
    "    'ind_deme_fin_ult1':    'float64',\n",
    "    'ind_dela_fin_ult1':    'float64',\n",
    "    'ind_ecue_fin_ult1':    'float64',\n",
    "    'ind_fond_fin_ult1':    'float64',\n",
    "    'ind_hip_fin_ult1':     'float64',\n",
    "    'ind_plan_fin_ult1':    'float64',\n",
    "    'ind_pres_fin_ult1':    'float64',\n",
    "    'ind_reca_fin_ult1':    'float64',\n",
    "    'ind_tjcr_fin_ult1':    'float64',\n",
    "    'ind_valo_fin_ult1':    'float64',\n",
    "    'ind_viv_fin_ult1':     'float64',\n",
    "    'ind_nomina_ult1':      'float64',\n",
    "    'ind_nom_pens_ult1':    'float64',\n",
    "    'ind_recibo_ult1':      'float64'\n",
    "}"
   ]
  },
  {
   "cell_type": "code",
   "execution_count": 25,
   "id": "133a11ef",
   "metadata": {},
   "outputs": [],
   "source": [
    "# code everything to string to complete assignmnet then figure out the mixed type issue\n",
    "dtypes = {\n",
    "    'fecha_dato':         'string[pyarrow]',\n",
    "    'ncodpers':           'string[pyarrow]',\n",
    "    'ind_empleado':       'string[pyarrow]',\n",
    "    'pais_residencia':    'string[pyarrow]',\n",
    "    'sexo':               'string[pyarrow]',\n",
    "    'age':                 'string[pyarrow]',\n",
    "    'fecha_alta':          'string[pyarrow]',\n",
    "    'ind_nuevo':           'string[pyarrow]',\n",
    "    'antiguedad':          'string[pyarrow]',\n",
    "    'indrel':              'string[pyarrow]',\n",
    "    'ult_fec_cli_1t':      'string[pyarrow]',\n",
    "    'indrel_1mes':         'string[pyarrow]',\n",
    "    'tiprel_1mes':         'string[pyarrow]',\n",
    "    'indresi':             'string[pyarrow]',\n",
    "    'indext':              'string[pyarrow]',\n",
    "    'conyuemp':            'string[pyarrow]',\n",
    "    'canal_entrada':       'string[pyarrow]',\n",
    "    'indfall':             'string[pyarrow]',\n",
    "    'tipodom':             'string[pyarrow]',\n",
    "    'cod_prov':            'string[pyarrow]',\n",
    "    'nomprov':             'string[pyarrow]',\n",
    "    'ind_actividad_cliente': 'string[pyarrow]',\n",
    "    'renta':                'string[pyarrow]',\n",
    "    'segmento':             'string[pyarrow]',\n",
    "    'ind_ahor_fin_ult1':    'float64',\n",
    "    'ind_aval_fin_ult1':    'float64',\n",
    "    'ind_cco_fin_ult1':     'float64',\n",
    "    'ind_cder_fin_ult1':    'float64',\n",
    "    'ind_cno_fin_ult1':     'float64',\n",
    "    'ind_ctju_fin_ult1':    'float64',\n",
    "    'ind_ctma_fin_ult1':    'float64',\n",
    "    'ind_ctop_fin_ult1':    'float64',\n",
    "    'ind_ctpp_fin_ult1':    'float64',\n",
    "    'ind_deco_fin_ult1':    'float64',\n",
    "    'ind_deme_fin_ult1':    'float64',\n",
    "    'ind_dela_fin_ult1':    'float64',\n",
    "    'ind_ecue_fin_ult1':    'float64',\n",
    "    'ind_fond_fin_ult1':    'float64',\n",
    "    'ind_hip_fin_ult1':     'float64',\n",
    "    'ind_plan_fin_ult1':    'float64',\n",
    "    'ind_pres_fin_ult1':    'float64',\n",
    "    'ind_reca_fin_ult1':    'float64',\n",
    "    'ind_tjcr_fin_ult1':    'float64',\n",
    "    'ind_valo_fin_ult1':    'float64',\n",
    "    'ind_viv_fin_ult1':     'float64',\n",
    "    'ind_nomina_ult1':      'float64',\n",
    "    'ind_nom_pens_ult1':    'float64',\n",
    "    'ind_recibo_ult1':      'float64'\n",
    "}"
   ]
  },
  {
   "cell_type": "code",
   "execution_count": 26,
   "id": "02281c63",
   "metadata": {},
   "outputs": [],
   "source": [
    "df1 = dd.read_csv(\"Train.csv\", sep=\",\", assume_missing=True, dtype = dtypes)"
   ]
  },
  {
   "cell_type": "code",
   "execution_count": 27,
   "id": "962e6372",
   "metadata": {},
   "outputs": [
    {
     "name": "stdout",
     "output_type": "stream",
     "text": [
      "Rows: 13647309, Columns: 48\n"
     ]
    }
   ],
   "source": [
    "num_col = len(df1.columns)\n",
    "num_row = df1.shape[0].compute()\n",
    "print(f\"Rows: {num_row}, Columns: {num_col}\")"
   ]
  },
  {
   "cell_type": "code",
   "execution_count": 28,
   "id": "1582deb7",
   "metadata": {},
   "outputs": [],
   "source": [
    "# code everything to string to complete assignmnet then figure out the mixed type issue - TESTING\n",
    "dtypes = {\n",
    "    'fecha_dato':         'string[pyarrow]',\n",
    "    'ncodpers':           'string[pyarrow]',\n",
    "    'ind_empleado':       'string[pyarrow]',\n",
    "    'pais_residencia':    'string[pyarrow]',\n",
    "    'sexo':               'string[pyarrow]',\n",
    "    'age':                 'string[pyarrow]',\n",
    "    'fecha_alta':          'string[pyarrow]',\n",
    "    'ind_nuevo':           'string[pyarrow]',\n",
    "    'antiguedad':          'string[pyarrow]',\n",
    "    'indrel':              'string[pyarrow]',\n",
    "    'ult_fec_cli_1t':      'string[pyarrow]',\n",
    "    'indrel_1mes':         'string[pyarrow]',\n",
    "    'tiprel_1mes':         'string[pyarrow]',\n",
    "    'indresi':             'string[pyarrow]',\n",
    "    'indext':              'string[pyarrow]',\n",
    "    'conyuemp':            'string[pyarrow]',\n",
    "    'canal_entrada':       'string[pyarrow]',\n",
    "    'indfall':             'string[pyarrow]',\n",
    "    'tipodom':             'string[pyarrow]',\n",
    "    'cod_prov':            'string[pyarrow]',\n",
    "    'nomprov':             'string[pyarrow]',\n",
    "    'ind_actividad_cliente': 'string[pyarrow]',\n",
    "    'renta':                'string[pyarrow]',\n",
    "    'segmento':             'string[pyarrow]'\n",
    "}"
   ]
  },
  {
   "cell_type": "code",
   "execution_count": 29,
   "id": "33291867",
   "metadata": {},
   "outputs": [],
   "source": [
    "df2 = dd.read_csv(\"Test.csv\", sep=\",\", assume_missing=True, dtype = dtypes)"
   ]
  },
  {
   "cell_type": "code",
   "execution_count": 31,
   "id": "ad3d888e",
   "metadata": {},
   "outputs": [
    {
     "name": "stdout",
     "output_type": "stream",
     "text": [
      "Rows: 929615, Columns: 24\n"
     ]
    }
   ],
   "source": [
    "num_col = len(df2.columns)\n",
    "num_row = df2.shape[0].compute()\n",
    "print(f\"Rows: {num_row}, Columns: {num_col}\")"
   ]
  }
 ],
 "metadata": {
  "kernelspec": {
   "display_name": "pmb-072125",
   "language": "python",
   "name": "python3"
  },
  "language_info": {
   "codemirror_mode": {
    "name": "ipython",
    "version": 3
   },
   "file_extension": ".py",
   "mimetype": "text/x-python",
   "name": "python",
   "nbconvert_exporter": "python",
   "pygments_lexer": "ipython3",
   "version": "3.12.7"
  }
 },
 "nbformat": 4,
 "nbformat_minor": 5
}
